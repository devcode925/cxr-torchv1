{
 "cells": [
  {
   "cell_type": "code",
   "execution_count": 1,
   "metadata": {},
   "outputs": [],
   "source": [
    "%load_ext autoreload\n",
    "%autoreload 2"
   ]
  },
  {
   "cell_type": "code",
   "execution_count": 2,
   "metadata": {},
   "outputs": [],
   "source": [
    "import os,sys\n",
    "sys.path.insert(0,\"..\")\n",
    "sys.path.insert(0,\"../..\")\n",
    "from glob import glob\n",
    "import matplotlib.pyplot as plt\n",
    "import numpy as np\n",
    "import torch\n",
    "import torchvision\n",
    "import sys\n",
    "import torch.nn.functional as F\n",
    "import pandas as pd"
   ]
  },
  {
   "cell_type": "code",
   "execution_count": 3,
   "metadata": {},
   "outputs": [],
   "source": [
    "import torchxrayvision as xrv"
   ]
  },
  {
   "cell_type": "code",
   "execution_count": 4,
   "metadata": {},
   "outputs": [],
   "source": [
    "nn_model = xrv.models.DenseNet(weights=\"all\")#.cuda()\n",
    "nn_model.op_threshs = None # to prevent sigmoid"
   ]
  },
  {
   "cell_type": "code",
   "execution_count": 5,
   "metadata": {},
   "outputs": [],
   "source": [
    "import torchvision, torchvision.transforms\n",
    "transform = torchvision.transforms.Compose([xrv.datasets.XRayCenterCrop(),xrv.datasets.XRayResizer(224)])"
   ]
  },
  {
   "cell_type": "code",
   "execution_count": 6,
   "metadata": {},
   "outputs": [],
   "source": [
    "# data is at `git checkout d0cb037cc863308a2f68780d9975275376f49a0b`\n",
    "# https://github.com/ieee8023/covid-chestxray-dataset\n",
    "path_to_covid_dataset = \"../../../covid-chestxray-dataset\""
   ]
  },
  {
   "cell_type": "code",
   "execution_count": 7,
   "metadata": {},
   "outputs": [],
   "source": [
    "dmerge = xrv.datasets.COVID19_Dataset(imgpath=path_to_covid_dataset + \"/images\",\n",
    "                                      csvpath=path_to_covid_dataset + \"/metadata.csv\",\n",
    "                                      transform=transform, views=[\"PA\", \"AP\"])"
   ]
  },
  {
   "cell_type": "code",
   "execution_count": 8,
   "metadata": {},
   "outputs": [
    {
     "name": "stdout",
     "output_type": "stream",
     "text": [
      "{'ARDS': {0.0: 393, 1.0: 15},\n",
      " 'Bacterial': {0.0: 377, 1.0: 31},\n",
      " 'COVID-19': {0.0: 96, 1.0: 312},\n",
      " 'Chlamydophila': {0.0: 407, 1.0: 1},\n",
      " 'E.Coli': {0.0: 408},\n",
      " 'Fungal': {0.0: 395, 1.0: 13},\n",
      " 'Influenza': {0.0: 407, 1.0: 1},\n",
      " 'Klebsiella': {0.0: 401, 1.0: 7},\n",
      " 'Legionella': {0.0: 404, 1.0: 4},\n",
      " 'Lipoid': {0.0: 405, 1.0: 3},\n",
      " 'MERS': {0.0: 408},\n",
      " 'Mycoplasma': {0.0: 404, 1.0: 4},\n",
      " 'No Finding': {0.0: 393, 1.0: 15},\n",
      " 'Pneumocystis': {0.0: 395, 1.0: 13},\n",
      " 'Pneumonia': {0.0: 15, 1.0: 393},\n",
      " 'SARS': {0.0: 392, 1.0: 16},\n",
      " 'Streptococcus': {0.0: 395, 1.0: 13},\n",
      " 'Varicella': {0.0: 404, 1.0: 4},\n",
      " 'Viral': {0.0: 75, 1.0: 333}}\n"
     ]
    },
    {
     "data": {
      "text/plain": [
       "COVID19_Dataset num_samples=408 views=['PA', 'AP']"
      ]
     },
     "execution_count": 8,
     "metadata": {},
     "output_type": "execute_result"
    }
   ],
   "source": [
    "dmerge"
   ]
  },
  {
   "cell_type": "code",
   "execution_count": 9,
   "metadata": {},
   "outputs": [],
   "source": [
    "dmerge.csv = dmerge.csv.join(pd.DataFrame(dmerge.labels, columns=[\"gt_\" + path for path in dmerge.pathologies]))"
   ]
  },
  {
   "cell_type": "code",
   "execution_count": null,
   "metadata": {},
   "outputs": [],
   "source": []
  },
  {
   "cell_type": "code",
   "execution_count": 10,
   "metadata": {},
   "outputs": [],
   "source": [
    "scores = pd.read_csv(path_to_covid_dataset + \"/annotations/covid-severity-scores.csv\", skiprows=5)\n",
    "scores = scores.set_index(\"filename\")"
   ]
  },
  {
   "cell_type": "code",
   "execution_count": 11,
   "metadata": {},
   "outputs": [
    {
     "data": {
      "text/html": [
       "<div>\n",
       "<style scoped>\n",
       "    .dataframe tbody tr th:only-of-type {\n",
       "        vertical-align: middle;\n",
       "    }\n",
       "\n",
       "    .dataframe tbody tr th {\n",
       "        vertical-align: top;\n",
       "    }\n",
       "\n",
       "    .dataframe thead th {\n",
       "        text-align: right;\n",
       "    }\n",
       "</style>\n",
       "<table border=\"1\" class=\"dataframe\">\n",
       "  <thead>\n",
       "    <tr style=\"text-align: right;\">\n",
       "      <th></th>\n",
       "      <th>geographic_mean</th>\n",
       "      <th>opacity_mean</th>\n",
       "    </tr>\n",
       "    <tr>\n",
       "      <th>filename</th>\n",
       "      <th></th>\n",
       "      <th></th>\n",
       "    </tr>\n",
       "  </thead>\n",
       "  <tbody>\n",
       "    <tr>\n",
       "      <th>01E392EE-69F9-4E33-BFCE-E5C968654078.jpeg</th>\n",
       "      <td>6.0</td>\n",
       "      <td>4.0</td>\n",
       "    </tr>\n",
       "    <tr>\n",
       "      <th>03BF7561-A9BA-4C3C-B8A0-D3E585F73F3C.jpeg</th>\n",
       "      <td>2.7</td>\n",
       "      <td>2.0</td>\n",
       "    </tr>\n",
       "    <tr>\n",
       "      <th>1-s2.0-S0140673620303706-fx1_lrg.jpg</th>\n",
       "      <td>2.0</td>\n",
       "      <td>2.0</td>\n",
       "    </tr>\n",
       "    <tr>\n",
       "      <th>1-s2.0-S1684118220300608-main.pdf-001.jpg</th>\n",
       "      <td>3.7</td>\n",
       "      <td>3.0</td>\n",
       "    </tr>\n",
       "    <tr>\n",
       "      <th>1-s2.0-S1684118220300608-main.pdf-002.jpg</th>\n",
       "      <td>1.7</td>\n",
       "      <td>1.7</td>\n",
       "    </tr>\n",
       "    <tr>\n",
       "      <th>...</th>\n",
       "      <td>...</td>\n",
       "      <td>...</td>\n",
       "    </tr>\n",
       "    <tr>\n",
       "      <th>ryct.2020200028.fig1a.jpeg</th>\n",
       "      <td>2.0</td>\n",
       "      <td>1.7</td>\n",
       "    </tr>\n",
       "    <tr>\n",
       "      <th>ryct.2020200034.fig2.jpeg</th>\n",
       "      <td>1.3</td>\n",
       "      <td>1.3</td>\n",
       "    </tr>\n",
       "    <tr>\n",
       "      <th>ryct.2020200034.fig5-day0.jpeg</th>\n",
       "      <td>3.7</td>\n",
       "      <td>3.3</td>\n",
       "    </tr>\n",
       "    <tr>\n",
       "      <th>ryct.2020200034.fig5-day4.jpeg</th>\n",
       "      <td>5.7</td>\n",
       "      <td>4.0</td>\n",
       "    </tr>\n",
       "    <tr>\n",
       "      <th>ryct.2020200034.fig5-day7.jpeg</th>\n",
       "      <td>4.3</td>\n",
       "      <td>4.0</td>\n",
       "    </tr>\n",
       "  </tbody>\n",
       "</table>\n",
       "<p>94 rows × 2 columns</p>\n",
       "</div>"
      ],
      "text/plain": [
       "                                           geographic_mean  opacity_mean\n",
       "filename                                                                \n",
       "01E392EE-69F9-4E33-BFCE-E5C968654078.jpeg              6.0           4.0\n",
       "03BF7561-A9BA-4C3C-B8A0-D3E585F73F3C.jpeg              2.7           2.0\n",
       "1-s2.0-S0140673620303706-fx1_lrg.jpg                   2.0           2.0\n",
       "1-s2.0-S1684118220300608-main.pdf-001.jpg              3.7           3.0\n",
       "1-s2.0-S1684118220300608-main.pdf-002.jpg              1.7           1.7\n",
       "...                                                    ...           ...\n",
       "ryct.2020200028.fig1a.jpeg                             2.0           1.7\n",
       "ryct.2020200034.fig2.jpeg                              1.3           1.3\n",
       "ryct.2020200034.fig5-day0.jpeg                         3.7           3.3\n",
       "ryct.2020200034.fig5-day4.jpeg                         5.7           4.0\n",
       "ryct.2020200034.fig5-day7.jpeg                         4.3           4.0\n",
       "\n",
       "[94 rows x 2 columns]"
      ]
     },
     "execution_count": 11,
     "metadata": {},
     "output_type": "execute_result"
    }
   ],
   "source": [
    "scores"
   ]
  },
  {
   "cell_type": "code",
   "execution_count": 12,
   "metadata": {},
   "outputs": [],
   "source": [
    "dmerge.csv = dmerge.csv.set_index(\"filename\").join(scores, on=\"filename\").reset_index()"
   ]
  },
  {
   "cell_type": "code",
   "execution_count": 13,
   "metadata": {},
   "outputs": [
    {
     "data": {
      "text/plain": [
       "count    94.000000\n",
       "mean      3.336170\n",
       "std       2.369785\n",
       "min       0.000000\n",
       "25%       1.300000\n",
       "50%       3.000000\n",
       "75%       4.925000\n",
       "max       8.000000\n",
       "Name: geographic_mean, dtype: float64"
      ]
     },
     "execution_count": 13,
     "metadata": {},
     "output_type": "execute_result"
    }
   ],
   "source": [
    "dmerge.csv.geographic_mean[~dmerge.csv.geographic_mean.isna()].describe()"
   ]
  },
  {
   "cell_type": "code",
   "execution_count": 14,
   "metadata": {},
   "outputs": [],
   "source": [
    "dl = torch.utils.data.DataLoader(dmerge, batch_size=32, num_workers=2, pin_memory=True)"
   ]
  },
  {
   "cell_type": "code",
   "execution_count": null,
   "metadata": {},
   "outputs": [],
   "source": []
  },
  {
   "cell_type": "code",
   "execution_count": 15,
   "metadata": {},
   "outputs": [],
   "source": [
    "# d_feats = []\n",
    "# d_preds = []\n",
    "# d_pixels = []\n",
    "# with torch.no_grad():\n",
    "#     for i, batch in enumerate(dl):\n",
    "#         imgs = batch[\"img\"]#.cuda()\n",
    "#         out = nn_model.features(imgs)\n",
    "#         out = F.relu(out, inplace=True)\n",
    "#         out = F.adaptive_avg_pool2d(out, (1, 1))\n",
    "#         pred = nn_model.classifier(out.view(out.size(0), -1))\n",
    "#         d_pixels.append(imgs)\n",
    "#         d_feats.append(out.detach().cpu().numpy())\n",
    "#         d_preds.append(pred.detach().cpu().numpy())\n",
    "#         if i %10 == 0:\n",
    "#             print(i)\n",
    "# d_feats = np.concatenate(d_feats).reshape(-1,1024)\n",
    "# d_preds = np.concatenate(d_preds)\n",
    "# d_pixels = np.concatenate(d_pixels)"
   ]
  },
  {
   "cell_type": "code",
   "execution_count": 16,
   "metadata": {},
   "outputs": [],
   "source": [
    "import pickle\n",
    "#pickle.dump([d_feats, d_preds, d_pixels], open(\"d_feats.pkl\",\"wb\"))\n",
    "d_feats, d_preds, d_pixels = pickle.load(open(\"d_feats.pkl\",\"rb\"))"
   ]
  },
  {
   "cell_type": "code",
   "execution_count": null,
   "metadata": {},
   "outputs": [],
   "source": []
  },
  {
   "cell_type": "code",
   "execution_count": null,
   "metadata": {},
   "outputs": [],
   "source": []
  },
  {
   "cell_type": "code",
   "execution_count": 17,
   "metadata": {},
   "outputs": [],
   "source": [
    "dmerge.csv = dmerge.csv.join(pd.DataFrame(d_preds, columns=xrv.datasets.default_pathologies))"
   ]
  },
  {
   "cell_type": "code",
   "execution_count": 18,
   "metadata": {},
   "outputs": [],
   "source": [
    "dmerge.csv[\"country\"] = dmerge.csv.location.str.split(\",\").str[-1].str.strip()"
   ]
  },
  {
   "cell_type": "code",
   "execution_count": 19,
   "metadata": {},
   "outputs": [],
   "source": [
    "continents = pd.read_csv(\"continents.csv.zip\")\n",
    "continents = continents[[\"name\", \"region\", \"sub-region\"]]"
   ]
  },
  {
   "cell_type": "code",
   "execution_count": 20,
   "metadata": {},
   "outputs": [],
   "source": [
    "dmerge.csv = dmerge.csv.join(continents.set_index(\"name\"), on=[\"country\"])"
   ]
  },
  {
   "cell_type": "code",
   "execution_count": null,
   "metadata": {},
   "outputs": [],
   "source": []
  },
  {
   "cell_type": "code",
   "execution_count": null,
   "metadata": {},
   "outputs": [],
   "source": []
  },
  {
   "cell_type": "code",
   "execution_count": 21,
   "metadata": {},
   "outputs": [
    {
     "data": {
      "text/plain": [
       "(408, 18)"
      ]
     },
     "execution_count": 21,
     "metadata": {},
     "output_type": "execute_result"
    }
   ],
   "source": [
    "d_preds.shape"
   ]
  },
  {
   "cell_type": "code",
   "execution_count": 22,
   "metadata": {},
   "outputs": [
    {
     "data": {
      "text/plain": [
       "(408, 1024)"
      ]
     },
     "execution_count": 22,
     "metadata": {},
     "output_type": "execute_result"
    }
   ],
   "source": [
    "d_feats.shape"
   ]
  },
  {
   "cell_type": "code",
   "execution_count": null,
   "metadata": {},
   "outputs": [],
   "source": []
  },
  {
   "cell_type": "code",
   "execution_count": 23,
   "metadata": {},
   "outputs": [],
   "source": [
    "import sklearn, sklearn.linear_model, sklearn.metrics, sklearn.model_selection, sklearn.neural_network\n",
    "import scipy, scipy.stats, collections\n",
    "def evaluate(data, labels, title, regions, test_region, plot=True, seed=0, method=\"linear\", target_str=\"\", usemlp=False):\n",
    "    X = data\n",
    "    y = labels.astype(float)\n",
    "    \n",
    "#     gss = sklearn.model_selection.GroupShuffleSplit(train_size=0.5,test_size=0.5, random_state=seed)\n",
    "#     train_inds, test_inds = next(gss.split(X, y, groups))\n",
    "    test_region_mask = (regions == test_region)\n",
    "    train_inds = np.where(~test_region_mask)[0]\n",
    "    test_inds = np.where(test_region_mask)[0]\n",
    "\n",
    "    X_train, X_test, y_train, y_test = X[train_inds], X[test_inds], y.iloc[train_inds], y.iloc[test_inds]\n",
    "    #print(\"X_train\", X_train.shape, \"X_test\", X_test.shape)\n",
    "\n",
    "    res = {}\n",
    "    \n",
    "    if method==\"linear\":\n",
    "        model = sklearn.linear_model.LinearRegression()\n",
    "    if (method==\"logistic\") and not usemlp:\n",
    "        model = sklearn.linear_model.LogisticRegression()\n",
    "    if usemlp:    \n",
    "        model = sklearn.neural_network.MLPClassifier(random_state=seed)\n",
    "        \n",
    "        \n",
    "    model = model.fit(X_train, y_train)\n",
    "    y_pred = model.predict(X_test)\n",
    "    \n",
    "    pdiff = y_test - y_pred\n",
    "    \n",
    "    \n",
    "    res[\"name\"] = title\n",
    "    res[\"test_region\"] = test_region\n",
    "    if method==\"linear\":\n",
    "        res[\"R^2\"] = sklearn.metrics.r2_score(y_test, y_pred)\n",
    "        res[\"Correlation\"] = scipy.stats.pearsonr(y_test,y_pred)[0]\n",
    "        if np.isnan(res[\"Correlation\"]): res[\"Correlation\"] = 0\n",
    "        res[\"MAE\"] = sklearn.metrics.mean_absolute_error(y_test, y_pred)\n",
    "        #res[\"MSE\"] = sklearn.metrics.mean_squared_error(y_test, y_pred)\n",
    "        res[\"# test samples\"] = int(len(y_test))\n",
    "        \n",
    "    if method==\"logistic\":\n",
    "        res[\"AUROC\"] = sklearn.metrics.roc_auc_score(y_test, y_pred)\n",
    "        res[\"AUPRC\"] = sklearn.metrics.average_precision_score(y_test, y_pred)\n",
    "        res[\"# test samples\"] = collections.Counter(y_test == 1)\n",
    "    \n",
    "    if usemlp:\n",
    "        #res[\"# params\"] = \"{}+{}\".format(len(np.concatenate([a.flatten() for a in model.coefs_])), len(np.concatenate([a.flatten() for a in model.intercepts_])))\n",
    "        res[\"# params\"] = \"{}\".format(len(np.concatenate([a.flatten() for a in model.coefs_]))+len(np.concatenate([a.flatten() for a in model.intercepts_])))\n",
    "        res[\"method\"] = \"MLP\"\n",
    "        res[\"name\"] = res[\"name\"] + \" (MLP)\"\n",
    "    else:\n",
    "        res[\"# params\"] = \"{}+1\".format(len(model.coef_.flatten()))\n",
    "        res[\"method\"] = method\n",
    "\n",
    "    \n",
    "    if plot:\n",
    "        fig, ax = plt.subplots(figsize=(6,4), dpi=100)\n",
    "        for x,y,yp in zip(y_test,y_test,y_pred):\n",
    "            plt.plot((x,x),(y,yp),color='red',marker='')\n",
    "\n",
    "        pmax = int(np.max([y_pred.max(), y_test.max()]))+2\n",
    "        plt.plot(range(pmax),range(pmax), c=\"gray\", linestyle=\"--\")\n",
    "        plt.xlim(0,pmax-1)\n",
    "        plt.ylim(0,pmax-1)\n",
    "\n",
    "        plt.scatter(y_test, y_pred);\n",
    "        plt.ylabel(\"Model prediction ($y_{pred}$)\")\n",
    "        plt.xlabel(\"Ground Truth ($y_{true}$)\")\n",
    "        plt.title(title);\n",
    "        plt.text(0.01,0.97, \"$R^2$={0:0.2f}\".format(res[\"R^2\"])+ \"\\n\"+ \n",
    "                 \"Correlation={0:0.2f}\".format(res[\"Correlation\"]), ha='left', va='top', transform=plt.gca().transAxes)\n",
    "\n",
    "    return res#, pdiff\n"
   ]
  },
  {
   "cell_type": "code",
   "execution_count": 24,
   "metadata": {},
   "outputs": [
    {
     "data": {
      "text/plain": [
       "Italy             71\n",
       "Germany           50\n",
       "Spain             44\n",
       "China             30\n",
       "United Kingdom    28\n",
       "Australia         26\n",
       "USA               18\n",
       "Hong Kong         14\n",
       "Taiwan            14\n",
       "Canada            12\n",
       "South Korea        9\n",
       "Portugal           8\n",
       "Vietnam            6\n",
       "Iran               6\n",
       "Japan              6\n",
       "Pakistan           5\n",
       "Austria            3\n",
       "Egypt              3\n",
       "Singapore          3\n",
       "Thailand           3\n",
       "Philippines        3\n",
       "Malta              2\n",
       "Israel             2\n",
       "Colombia           1\n",
       "Belgium            1\n",
       "Argentina          1\n",
       "Russia             1\n",
       "Sweden             1\n",
       "Denmark            1\n",
       "Greece             1\n",
       "Turkey             1\n",
       "Name: country, dtype: int64"
      ]
     },
     "execution_count": 24,
     "metadata": {},
     "output_type": "execute_result"
    }
   ],
   "source": [
    "dmerge.csv.country.value_counts()"
   ]
  },
  {
   "cell_type": "code",
   "execution_count": 25,
   "metadata": {},
   "outputs": [
    {
     "data": {
      "text/plain": [
       "Europe      211\n",
       "Asia        102\n",
       "Oceania      26\n",
       "Americas     14\n",
       "Africa        3\n",
       "Name: region, dtype: int64"
      ]
     },
     "execution_count": 25,
     "metadata": {},
     "output_type": "execute_result"
    }
   ],
   "source": [
    "dmerge.csv.region.value_counts()"
   ]
  },
  {
   "cell_type": "code",
   "execution_count": 26,
   "metadata": {},
   "outputs": [
    {
     "data": {
      "text/plain": [
       "Southern Europe                    126\n",
       "Eastern Asia                        73\n",
       "Western Europe                      54\n",
       "Northern Europe                     30\n",
       "Australia and New Zealand           26\n",
       "South-eastern Asia                  15\n",
       "Northern America                    12\n",
       "Southern Asia                       11\n",
       "Western Asia                         3\n",
       "Northern Africa                      3\n",
       "Latin America and the Caribbean      2\n",
       "Eastern Europe                       1\n",
       "Name: sub-region, dtype: int64"
      ]
     },
     "execution_count": 26,
     "metadata": {},
     "output_type": "execute_result"
    }
   ],
   "source": [
    "dmerge.csv[\"sub-region\"].value_counts()"
   ]
  },
  {
   "cell_type": "code",
   "execution_count": 27,
   "metadata": {},
   "outputs": [],
   "source": [
    "# labels_mask = ~np.isnan(dmerge.csv.geographic_mean.astype(float))\n",
    "# labels = dmerge.csv.geographic_mean[labels_mask]\n",
    "# data = d_preds[labels_mask]\n",
    "# data = data[:,[xrv.datasets.default_pathologies.index(\"Lung Opacity\")]]\n",
    "# for country in test_countries:\n",
    "#     test_country_mask = dmerge.csv.country[labels_mask] == country\n",
    "#     a = evaluate(data, labels,\"Geographic Extent (Test:{})\".format(country),test_country_mask = test_country_mask, seed=1)\n"
   ]
  },
  {
   "cell_type": "code",
   "execution_count": null,
   "metadata": {},
   "outputs": [],
   "source": []
  },
  {
   "cell_type": "code",
   "execution_count": 28,
   "metadata": {},
   "outputs": [],
   "source": [
    "# labels_mask = ~np.isnan(dmerge.csv.opacity_mean.astype(float))\n",
    "# labels = dmerge.csv.opacity_mean[labels_mask]\n",
    "# data = d_preds[labels_mask]\n",
    "# data = data[:,[xrv.datasets.default_pathologies.index(\"Lung Opacity\")]]\n",
    "# for country in test_countries:\n",
    "#     test_country_mask = dmerge.csv.country[labels_mask] == country\n",
    "#     a = evaluate(data, labels,\"Opacity (Test:{})\".format(country),test_country_mask = test_country_mask, seed=0)\n"
   ]
  },
  {
   "cell_type": "code",
   "execution_count": 29,
   "metadata": {},
   "outputs": [],
   "source": [
    "results = pd.DataFrame()"
   ]
  },
  {
   "cell_type": "code",
   "execution_count": 30,
   "metadata": {},
   "outputs": [],
   "source": [
    "# target_str = \"Geographic Extent\"\n",
    "# labels_mask = ~np.isnan(dmerge.csv.geographic_mean.astype(float))\n",
    "# labels = dmerge.csv.geographic_mean[labels_mask]\n",
    "# method = \"linear\""
   ]
  },
  {
   "cell_type": "code",
   "execution_count": 31,
   "metadata": {},
   "outputs": [],
   "source": [
    "target_str = \"Opacity\"\n",
    "labels_mask = ~np.isnan(dmerge.csv.opacity_mean.astype(float))\n",
    "labels = dmerge.csv.opacity_mean[labels_mask]\n",
    "method = \"linear\""
   ]
  },
  {
   "cell_type": "code",
   "execution_count": null,
   "metadata": {},
   "outputs": [],
   "source": []
  },
  {
   "cell_type": "code",
   "execution_count": 32,
   "metadata": {},
   "outputs": [],
   "source": [
    "# target_str = \"Survival\"\n",
    "# labels_mask = dmerge.csv.survival.isin([\"Y\",\"N\"]) & \\\n",
    "#               ~(dmerge.csv.intubation_present == \"Y\") & \\\n",
    "#               (dmerge.csv.offset.astype(\"float\") > 0) & \\\n",
    "#               (dmerge.csv.offset.astype(\"float\") < 8)\n",
    "# labels = dmerge.csv.survival[labels_mask] == \"Y\"\n",
    "# method = \"logistic\""
   ]
  },
  {
   "cell_type": "code",
   "execution_count": null,
   "metadata": {},
   "outputs": [],
   "source": []
  },
  {
   "cell_type": "code",
   "execution_count": 33,
   "metadata": {},
   "outputs": [],
   "source": [
    "# target_str = \"ICU Stay\"\n",
    "# labels_mask = dmerge.csv.went_icu.isin([\"Y\",\"N\"]) & \\\n",
    "#               ~(dmerge.csv.in_icu == \"Y\") & \\\n",
    "#               ~(dmerge.csv.intubation_present == \"Y\") & \\\n",
    "#               (dmerge.csv.offset.astype(\"float\") > 0) & \\\n",
    "#               (dmerge.csv.offset.astype(\"float\") < 8)\n",
    "# labels = (dmerge.csv.went_icu[labels_mask] == \"Y\")[labels_mask]\n",
    "# method = \"logistic\""
   ]
  },
  {
   "cell_type": "code",
   "execution_count": 34,
   "metadata": {},
   "outputs": [],
   "source": [
    "# target_str = \"intubated\"\n",
    "# labels_mask = dmerge.csv.intubated.isin([\"Y\",\"N\"]) & \\\n",
    "#               ~(dmerge.csv.intubation_present == \"Y\") & \\\n",
    "#               (dmerge.csv.offset.astype(\"float\") > 0) \n",
    "# labels = (dmerge.csv.intubated[labels_mask] == \"Y\")[labels_mask]\n",
    "# method = \"logistic\""
   ]
  },
  {
   "cell_type": "code",
   "execution_count": 35,
   "metadata": {},
   "outputs": [],
   "source": [
    "# target_str = \"COVID-19\"\n",
    "# labels_mask = ~dmerge.csv.finding.str.contains(\"todo\") & \\\n",
    "#               (dmerge.csv.offset.astype(\"float\") > 0) & \\\n",
    "#               (dmerge.csv.offset.astype(\"float\") < 8) \n",
    "# labels = dmerge.csv.finding.str.contains(\"COVID-19\")[labels_mask]\n",
    "# method = \"logistic\""
   ]
  },
  {
   "cell_type": "code",
   "execution_count": 36,
   "metadata": {},
   "outputs": [],
   "source": [
    "# target_str = \"Viral or Bacterial\"\n",
    "# labels_mask = ((dmerge.csv.gt_Bacterial == 1) | (dmerge.csv.gt_Viral == 1))& \\\n",
    "#               (dmerge.csv.offset.astype(\"float\") > 0) & \\\n",
    "#               (dmerge.csv.offset.astype(\"float\") < 8) \n",
    "# labels = (dmerge.csv.gt_Viral == 1)[labels_mask]\n",
    "# method = \"logistic\""
   ]
  },
  {
   "cell_type": "code",
   "execution_count": null,
   "metadata": {},
   "outputs": [],
   "source": []
  },
  {
   "cell_type": "code",
   "execution_count": 37,
   "metadata": {},
   "outputs": [
    {
     "data": {
      "text/plain": [
       "94"
      ]
     },
     "execution_count": 37,
     "metadata": {},
     "output_type": "execute_result"
    }
   ],
   "source": [
    "labels_mask.sum()"
   ]
  },
  {
   "cell_type": "code",
   "execution_count": null,
   "metadata": {},
   "outputs": [],
   "source": []
  },
  {
   "cell_type": "code",
   "execution_count": 38,
   "metadata": {},
   "outputs": [
    {
     "data": {
      "text/plain": [
       "array(['Asia', 'Americas', nan, 'Europe', 'Oceania'], dtype=object)"
      ]
     },
     "execution_count": 38,
     "metadata": {},
     "output_type": "execute_result"
    }
   ],
   "source": [
    "dmerge.csv.region[labels_mask].unique()"
   ]
  },
  {
   "cell_type": "code",
   "execution_count": 39,
   "metadata": {},
   "outputs": [
    {
     "data": {
      "text/plain": [
       "array(['South-eastern Asia', 'Eastern Asia', 'Northern America', nan,\n",
       "       'Northern Europe', 'Southern Europe', 'Australia and New Zealand',\n",
       "       'Western Asia', 'Southern Asia'], dtype=object)"
      ]
     },
     "execution_count": 39,
     "metadata": {},
     "output_type": "execute_result"
    }
   ],
   "source": [
    "dmerge.csv[\"sub-region\"][labels_mask].unique()"
   ]
  },
  {
   "cell_type": "code",
   "execution_count": null,
   "metadata": {},
   "outputs": [],
   "source": []
  },
  {
   "cell_type": "code",
   "execution_count": 40,
   "metadata": {},
   "outputs": [],
   "source": [
    "groupby = \"region\""
   ]
  },
  {
   "cell_type": "code",
   "execution_count": 41,
   "metadata": {},
   "outputs": [
    {
     "data": {
      "text/plain": [
       "['Asia', 'Europe']"
      ]
     },
     "execution_count": 41,
     "metadata": {},
     "output_type": "execute_result"
    }
   ],
   "source": [
    "test_regions = []\n",
    "if method == \"logistic\":\n",
    "    for region in dmerge.csv[groupby][labels_mask].dropna().unique():\n",
    "        counts = labels[labels_mask][dmerge.csv[groupby][labels_mask] == region].value_counts()\n",
    "        print(region, dict(counts))\n",
    "        if len(counts) > 1 and counts.min() > 0:\n",
    "            test_regions.append(region)        \n",
    "if method == \"linear\":\n",
    "    for region in dmerge.csv[groupby][labels_mask].dropna().unique():\n",
    "        if (dmerge.csv[groupby][labels_mask] == region).sum() > 2:\n",
    "            test_regions.append(region)       \n",
    "test_regions"
   ]
  },
  {
   "cell_type": "code",
   "execution_count": null,
   "metadata": {},
   "outputs": [],
   "source": []
  },
  {
   "cell_type": "code",
   "execution_count": null,
   "metadata": {},
   "outputs": [],
   "source": []
  },
  {
   "cell_type": "code",
   "execution_count": null,
   "metadata": {},
   "outputs": [],
   "source": []
  },
  {
   "cell_type": "code",
   "execution_count": 42,
   "metadata": {},
   "outputs": [],
   "source": [
    "results = pd.DataFrame()"
   ]
  },
  {
   "cell_type": "code",
   "execution_count": 43,
   "metadata": {},
   "outputs": [],
   "source": [
    "data = d_feats[labels_mask]\n",
    "for test_region in test_regions:\n",
    "    results = results.append(evaluate(data, labels, \"Intermediate features\", plot=False, \n",
    "                                      regions = dmerge.csv[groupby][labels_mask],\n",
    "                                      test_region=test_region,\n",
    "                                      target_str=target_str, \n",
    "                                      method=method), ignore_index=True)\n",
    "    "
   ]
  },
  {
   "cell_type": "code",
   "execution_count": 44,
   "metadata": {},
   "outputs": [],
   "source": [
    "data = np.zeros((data.shape[0],1))\n",
    "for test_region in test_regions:\n",
    "    results = results.append(evaluate(data, labels, \"No data\", plot=False, \n",
    "                                      regions = dmerge.csv[groupby][labels_mask],\n",
    "                                      test_region=test_region,\n",
    "                                      target_str=target_str, \n",
    "                                      method=method), ignore_index=True)"
   ]
  },
  {
   "cell_type": "code",
   "execution_count": 45,
   "metadata": {},
   "outputs": [],
   "source": [
    "data = d_preds[labels_mask]\n",
    "for test_region in test_regions:\n",
    "    results = results.append(evaluate(data, labels, \"18 outputs\", plot=False, \n",
    "                                      regions = dmerge.csv[groupby][labels_mask],\n",
    "                                      test_region=test_region,\n",
    "                                      target_str=target_str, \n",
    "                                      method=method), ignore_index=True)"
   ]
  },
  {
   "cell_type": "code",
   "execution_count": 46,
   "metadata": {},
   "outputs": [],
   "source": [
    "data = d_preds[labels_mask]\n",
    "data = data[:,[xrv.datasets.default_pathologies.index(\"Lung Opacity\"),\n",
    "               xrv.datasets.default_pathologies.index(\"Pneumonia\"),\n",
    "               xrv.datasets.default_pathologies.index(\"Infiltration\"),\n",
    "               xrv.datasets.default_pathologies.index(\"Consolidation\")]]\n",
    "\n",
    "for test_region in test_regions:\n",
    "    results = results.append(evaluate(data, labels, \"4 outputs\", plot=False, \n",
    "                                      regions = dmerge.csv[groupby][labels_mask],\n",
    "                                      test_region=test_region,\n",
    "                                      target_str=target_str, \n",
    "                                      method=method), ignore_index=True)"
   ]
  },
  {
   "cell_type": "code",
   "execution_count": 47,
   "metadata": {},
   "outputs": [],
   "source": [
    "data = d_preds[labels_mask]\n",
    "data = data[:,[xrv.datasets.default_pathologies.index(\"Lung Opacity\")]]\n",
    "for test_region in test_regions:\n",
    "    results = results.append(evaluate(data, labels, \"lung opacity output\", plot=False, \n",
    "                                      regions = dmerge.csv[groupby][labels_mask],\n",
    "                                      test_region=test_region,\n",
    "                                      target_str=target_str, \n",
    "                                      method=method), ignore_index=True)"
   ]
  },
  {
   "cell_type": "code",
   "execution_count": 48,
   "metadata": {},
   "outputs": [],
   "source": [
    "# data = d_pixels.reshape(d_pixels.shape[0],-1)[labels_mask]\n",
    "# for test_region in test_regions:\n",
    "#     for seed in range(3):\n",
    "#         results = results.append(evaluate(data, labels, \"Image pixels\", plot=False, \n",
    "#                                           regions = dmerge.csv[groupby][labels_mask],\n",
    "#                                           test_region=test_region,\n",
    "#                                           target_str=target_str, \n",
    "#                                           method=method, \n",
    "#                                           seed=seed,\n",
    "#                                           usemlp=True), ignore_index=True)"
   ]
  },
  {
   "cell_type": "code",
   "execution_count": 49,
   "metadata": {},
   "outputs": [
    {
     "data": {
      "text/html": [
       "<div>\n",
       "<style scoped>\n",
       "    .dataframe tbody tr th:only-of-type {\n",
       "        vertical-align: middle;\n",
       "    }\n",
       "\n",
       "    .dataframe tbody tr th {\n",
       "        vertical-align: top;\n",
       "    }\n",
       "\n",
       "    .dataframe thead th {\n",
       "        text-align: right;\n",
       "    }\n",
       "</style>\n",
       "<table border=\"1\" class=\"dataframe\">\n",
       "  <thead>\n",
       "    <tr style=\"text-align: right;\">\n",
       "      <th></th>\n",
       "      <th># params</th>\n",
       "      <th># test samples</th>\n",
       "      <th>Correlation</th>\n",
       "      <th>MAE</th>\n",
       "      <th>R^2</th>\n",
       "      <th>method</th>\n",
       "      <th>name</th>\n",
       "      <th>test_region</th>\n",
       "    </tr>\n",
       "  </thead>\n",
       "  <tbody>\n",
       "    <tr>\n",
       "      <th>0</th>\n",
       "      <td>1024+1</td>\n",
       "      <td>36.0</td>\n",
       "      <td>5.973973e-01</td>\n",
       "      <td>1.387112</td>\n",
       "      <td>-0.412039</td>\n",
       "      <td>linear</td>\n",
       "      <td>Intermediate features</td>\n",
       "      <td>Asia</td>\n",
       "    </tr>\n",
       "    <tr>\n",
       "      <th>1</th>\n",
       "      <td>1024+1</td>\n",
       "      <td>41.0</td>\n",
       "      <td>7.598335e-01</td>\n",
       "      <td>1.019488</td>\n",
       "      <td>0.224734</td>\n",
       "      <td>linear</td>\n",
       "      <td>Intermediate features</td>\n",
       "      <td>Europe</td>\n",
       "    </tr>\n",
       "    <tr>\n",
       "      <th>2</th>\n",
       "      <td>1+1</td>\n",
       "      <td>36.0</td>\n",
       "      <td>2.614829e-16</td>\n",
       "      <td>1.301245</td>\n",
       "      <td>-0.120027</td>\n",
       "      <td>linear</td>\n",
       "      <td>No data</td>\n",
       "      <td>Asia</td>\n",
       "    </tr>\n",
       "    <tr>\n",
       "      <th>3</th>\n",
       "      <td>1+1</td>\n",
       "      <td>41.0</td>\n",
       "      <td>0.000000e+00</td>\n",
       "      <td>1.296917</td>\n",
       "      <td>-0.402600</td>\n",
       "      <td>linear</td>\n",
       "      <td>No data</td>\n",
       "      <td>Europe</td>\n",
       "    </tr>\n",
       "    <tr>\n",
       "      <th>4</th>\n",
       "      <td>18+1</td>\n",
       "      <td>36.0</td>\n",
       "      <td>5.687020e-01</td>\n",
       "      <td>1.021268</td>\n",
       "      <td>0.106629</td>\n",
       "      <td>linear</td>\n",
       "      <td>18 outputs</td>\n",
       "      <td>Asia</td>\n",
       "    </tr>\n",
       "    <tr>\n",
       "      <th>5</th>\n",
       "      <td>18+1</td>\n",
       "      <td>41.0</td>\n",
       "      <td>7.555287e-01</td>\n",
       "      <td>0.788424</td>\n",
       "      <td>0.479761</td>\n",
       "      <td>linear</td>\n",
       "      <td>18 outputs</td>\n",
       "      <td>Europe</td>\n",
       "    </tr>\n",
       "    <tr>\n",
       "      <th>6</th>\n",
       "      <td>4+1</td>\n",
       "      <td>36.0</td>\n",
       "      <td>7.451234e-01</td>\n",
       "      <td>0.797400</td>\n",
       "      <td>0.535371</td>\n",
       "      <td>linear</td>\n",
       "      <td>4 outputs</td>\n",
       "      <td>Asia</td>\n",
       "    </tr>\n",
       "    <tr>\n",
       "      <th>7</th>\n",
       "      <td>4+1</td>\n",
       "      <td>41.0</td>\n",
       "      <td>8.375430e-01</td>\n",
       "      <td>0.661321</td>\n",
       "      <td>0.690752</td>\n",
       "      <td>linear</td>\n",
       "      <td>4 outputs</td>\n",
       "      <td>Europe</td>\n",
       "    </tr>\n",
       "    <tr>\n",
       "      <th>8</th>\n",
       "      <td>1+1</td>\n",
       "      <td>36.0</td>\n",
       "      <td>7.384419e-01</td>\n",
       "      <td>0.834249</td>\n",
       "      <td>0.533505</td>\n",
       "      <td>linear</td>\n",
       "      <td>lung opacity output</td>\n",
       "      <td>Asia</td>\n",
       "    </tr>\n",
       "    <tr>\n",
       "      <th>9</th>\n",
       "      <td>1+1</td>\n",
       "      <td>41.0</td>\n",
       "      <td>8.394008e-01</td>\n",
       "      <td>0.694675</td>\n",
       "      <td>0.666877</td>\n",
       "      <td>linear</td>\n",
       "      <td>lung opacity output</td>\n",
       "      <td>Europe</td>\n",
       "    </tr>\n",
       "  </tbody>\n",
       "</table>\n",
       "</div>"
      ],
      "text/plain": [
       "  # params  # test samples   Correlation       MAE       R^2  method  \\\n",
       "0   1024+1            36.0  5.973973e-01  1.387112 -0.412039  linear   \n",
       "1   1024+1            41.0  7.598335e-01  1.019488  0.224734  linear   \n",
       "2      1+1            36.0  2.614829e-16  1.301245 -0.120027  linear   \n",
       "3      1+1            41.0  0.000000e+00  1.296917 -0.402600  linear   \n",
       "4     18+1            36.0  5.687020e-01  1.021268  0.106629  linear   \n",
       "5     18+1            41.0  7.555287e-01  0.788424  0.479761  linear   \n",
       "6      4+1            36.0  7.451234e-01  0.797400  0.535371  linear   \n",
       "7      4+1            41.0  8.375430e-01  0.661321  0.690752  linear   \n",
       "8      1+1            36.0  7.384419e-01  0.834249  0.533505  linear   \n",
       "9      1+1            41.0  8.394008e-01  0.694675  0.666877  linear   \n",
       "\n",
       "                    name test_region  \n",
       "0  Intermediate features        Asia  \n",
       "1  Intermediate features      Europe  \n",
       "2                No data        Asia  \n",
       "3                No data      Europe  \n",
       "4             18 outputs        Asia  \n",
       "5             18 outputs      Europe  \n",
       "6              4 outputs        Asia  \n",
       "7              4 outputs      Europe  \n",
       "8    lung opacity output        Asia  \n",
       "9    lung opacity output      Europe  "
      ]
     },
     "execution_count": 49,
     "metadata": {},
     "output_type": "execute_result"
    }
   ],
   "source": [
    "results"
   ]
  },
  {
   "cell_type": "code",
   "execution_count": 50,
   "metadata": {},
   "outputs": [
    {
     "name": "stdout",
     "output_type": "stream",
     "text": [
      "\\begin{tabular}{lrrrrlll}\n",
      "\\toprule\n",
      "\\# params &  \\# test samples &  Correlation &   MAE &   R\\textasciicircum 2 &  method &                   name & test\\_region \\\\\n",
      "\\midrule\n",
      "  1024+1 &            36.0 &         0.60 &  1.39 & -0.41 &  linear &  Intermediate features &        Asia \\\\\n",
      "  1024+1 &            41.0 &         0.76 &  1.02 &  0.22 &  linear &  Intermediate features &      Europe \\\\\n",
      "     1+1 &            36.0 &         0.00 &  1.30 & -0.12 &  linear &                No data &        Asia \\\\\n",
      "     1+1 &            41.0 &         0.00 &  1.30 & -0.40 &  linear &                No data &      Europe \\\\\n",
      "    18+1 &            36.0 &         0.57 &  1.02 &  0.11 &  linear &             18 outputs &        Asia \\\\\n",
      "    18+1 &            41.0 &         0.76 &  0.79 &  0.48 &  linear &             18 outputs &      Europe \\\\\n",
      "     4+1 &            36.0 &         0.75 &  0.80 &  0.54 &  linear &              4 outputs &        Asia \\\\\n",
      "     4+1 &            41.0 &         0.84 &  0.66 &  0.69 &  linear &              4 outputs &      Europe \\\\\n",
      "     1+1 &            36.0 &         0.74 &  0.83 &  0.53 &  linear &    lung opacity output &        Asia \\\\\n",
      "     1+1 &            41.0 &         0.84 &  0.69 &  0.67 &  linear &    lung opacity output &      Europe \\\\\n",
      "\\bottomrule\n",
      "\\end{tabular}\n",
      "\n"
     ]
    }
   ],
   "source": [
    "print(results.round(2).to_latex(index=False))"
   ]
  },
  {
   "cell_type": "code",
   "execution_count": 51,
   "metadata": {},
   "outputs": [
    {
     "data": {
      "text/html": [
       "<div>\n",
       "<style scoped>\n",
       "    .dataframe tbody tr th:only-of-type {\n",
       "        vertical-align: middle;\n",
       "    }\n",
       "\n",
       "    .dataframe tbody tr th {\n",
       "        vertical-align: top;\n",
       "    }\n",
       "\n",
       "    .dataframe thead tr th {\n",
       "        text-align: left;\n",
       "    }\n",
       "\n",
       "    .dataframe thead tr:last-of-type th {\n",
       "        text-align: right;\n",
       "    }\n",
       "</style>\n",
       "<table border=\"1\" class=\"dataframe\">\n",
       "  <thead>\n",
       "    <tr>\n",
       "      <th></th>\n",
       "      <th></th>\n",
       "      <th colspan=\"2\" halign=\"left\">Correlation</th>\n",
       "      <th colspan=\"2\" halign=\"left\">R^2</th>\n",
       "      <th colspan=\"2\" halign=\"left\">MAE</th>\n",
       "    </tr>\n",
       "    <tr>\n",
       "      <th></th>\n",
       "      <th></th>\n",
       "      <th>mean</th>\n",
       "      <th>std</th>\n",
       "      <th>mean</th>\n",
       "      <th>std</th>\n",
       "      <th>mean</th>\n",
       "      <th>std</th>\n",
       "    </tr>\n",
       "    <tr>\n",
       "      <th>name</th>\n",
       "      <th>method</th>\n",
       "      <th></th>\n",
       "      <th></th>\n",
       "      <th></th>\n",
       "      <th></th>\n",
       "      <th></th>\n",
       "      <th></th>\n",
       "    </tr>\n",
       "  </thead>\n",
       "  <tbody>\n",
       "    <tr>\n",
       "      <th>18 outputs</th>\n",
       "      <th>linear</th>\n",
       "      <td>0.66</td>\n",
       "      <td>0.13</td>\n",
       "      <td>0.29</td>\n",
       "      <td>0.26</td>\n",
       "      <td>0.90</td>\n",
       "      <td>0.16</td>\n",
       "    </tr>\n",
       "    <tr>\n",
       "      <th>4 outputs</th>\n",
       "      <th>linear</th>\n",
       "      <td>0.79</td>\n",
       "      <td>0.07</td>\n",
       "      <td>0.61</td>\n",
       "      <td>0.11</td>\n",
       "      <td>0.73</td>\n",
       "      <td>0.10</td>\n",
       "    </tr>\n",
       "    <tr>\n",
       "      <th>Intermediate features</th>\n",
       "      <th>linear</th>\n",
       "      <td>0.68</td>\n",
       "      <td>0.11</td>\n",
       "      <td>-0.09</td>\n",
       "      <td>0.45</td>\n",
       "      <td>1.20</td>\n",
       "      <td>0.26</td>\n",
       "    </tr>\n",
       "    <tr>\n",
       "      <th>No data</th>\n",
       "      <th>linear</th>\n",
       "      <td>0.00</td>\n",
       "      <td>0.00</td>\n",
       "      <td>-0.26</td>\n",
       "      <td>0.20</td>\n",
       "      <td>1.30</td>\n",
       "      <td>0.00</td>\n",
       "    </tr>\n",
       "    <tr>\n",
       "      <th>lung opacity output</th>\n",
       "      <th>linear</th>\n",
       "      <td>0.79</td>\n",
       "      <td>0.07</td>\n",
       "      <td>0.60</td>\n",
       "      <td>0.09</td>\n",
       "      <td>0.76</td>\n",
       "      <td>0.10</td>\n",
       "    </tr>\n",
       "  </tbody>\n",
       "</table>\n",
       "</div>"
      ],
      "text/plain": [
       "                             Correlation         R^2         MAE      \n",
       "                                    mean   std  mean   std  mean   std\n",
       "name                  method                                          \n",
       "18 outputs            linear        0.66  0.13  0.29  0.26  0.90  0.16\n",
       "4 outputs             linear        0.79  0.07  0.61  0.11  0.73  0.10\n",
       "Intermediate features linear        0.68  0.11 -0.09  0.45  1.20  0.26\n",
       "No data               linear        0.00  0.00 -0.26  0.20  1.30  0.00\n",
       "lung opacity output   linear        0.79  0.07  0.60  0.09  0.76  0.10"
      ]
     },
     "execution_count": 51,
     "metadata": {},
     "output_type": "execute_result"
    }
   ],
   "source": [
    "if method==\"linear\":\n",
    "    a = results.groupby([\"name\", \"method\"]).agg({\n",
    "                                 'Correlation':['mean','std'],\n",
    "                                 'R^2':['mean','std'],\n",
    "                                 'MAE':['mean','std'],\n",
    "                                # 'MSE':['mean','std']}\n",
    "                                }).round(2)\n",
    "if method==\"logistic\":\n",
    "    a = results.groupby([\"name\", \"method\"]).agg({\n",
    "                                 'AUROC':['mean','std'],\n",
    "                                 'AUPRC':['mean','std']}).round(2)\n",
    "a"
   ]
  },
  {
   "cell_type": "code",
   "execution_count": 52,
   "metadata": {},
   "outputs": [],
   "source": [
    "results[\" \"] = \"\""
   ]
  },
  {
   "cell_type": "code",
   "execution_count": null,
   "metadata": {},
   "outputs": [],
   "source": []
  },
  {
   "cell_type": "code",
   "execution_count": 53,
   "metadata": {},
   "outputs": [],
   "source": [
    "if method==\"linear\":\n",
    "    a = results.groupby([\" \",\" \",\"name\", \"# params\"]).agg({\n",
    "                             'Correlation':['mean','std'],\n",
    "                             'R^2':['mean','std'],\n",
    "                             'MAE':['mean','std']}).round(2).sort_values((\"MAE\", \"mean\"))\n",
    "if method==\"logistic\":\n",
    "    a = results.groupby([\" \",\" \",\"name\", \"# params\"]).agg({\n",
    "                                 'AUROC':['mean','std'],\n",
    "                                 'AUPRC':['mean','std']}).round(2).sort_values((\"AUROC\", \"mean\"), ascending=False)\n",
    "    \n",
    "\n",
    "for c in a.columns.get_level_values(0).unique():\n",
    "    a[c+\"_\"] =  a[(c, \"mean\")].apply(\"{0:0.2f}\".format) + \"$\\pm$\" + a[(c, \"std\")].apply(\"{0:0.2f}\".format)\n",
    "    del a[c]\n",
    "    a[c] = a[c+\"_\"]\n",
    "    del a[c+\"_\"]\n"
   ]
  },
  {
   "cell_type": "code",
   "execution_count": 54,
   "metadata": {
    "scrolled": true
   },
   "outputs": [
    {
     "data": {
      "text/html": [
       "<div>\n",
       "<style scoped>\n",
       "    .dataframe tbody tr th:only-of-type {\n",
       "        vertical-align: middle;\n",
       "    }\n",
       "\n",
       "    .dataframe tbody tr th {\n",
       "        vertical-align: top;\n",
       "    }\n",
       "\n",
       "    .dataframe thead tr th {\n",
       "        text-align: left;\n",
       "    }\n",
       "\n",
       "    .dataframe thead tr:last-of-type th {\n",
       "        text-align: right;\n",
       "    }\n",
       "</style>\n",
       "<table border=\"1\" class=\"dataframe\">\n",
       "  <thead>\n",
       "    <tr>\n",
       "      <th></th>\n",
       "      <th></th>\n",
       "      <th></th>\n",
       "      <th></th>\n",
       "      <th>Correlation</th>\n",
       "      <th>R^2</th>\n",
       "      <th>MAE</th>\n",
       "    </tr>\n",
       "    <tr>\n",
       "      <th></th>\n",
       "      <th></th>\n",
       "      <th></th>\n",
       "      <th></th>\n",
       "      <th></th>\n",
       "      <th></th>\n",
       "      <th></th>\n",
       "    </tr>\n",
       "    <tr>\n",
       "      <th></th>\n",
       "      <th></th>\n",
       "      <th>name</th>\n",
       "      <th># params</th>\n",
       "      <th></th>\n",
       "      <th></th>\n",
       "      <th></th>\n",
       "    </tr>\n",
       "  </thead>\n",
       "  <tbody>\n",
       "    <tr>\n",
       "      <th rowspan=\"5\" valign=\"top\"></th>\n",
       "      <th rowspan=\"5\" valign=\"top\"></th>\n",
       "      <th>4 outputs</th>\n",
       "      <th>4+1</th>\n",
       "      <td>0.79$\\pm$0.07</td>\n",
       "      <td>0.61$\\pm$0.11</td>\n",
       "      <td>0.73$\\pm$0.10</td>\n",
       "    </tr>\n",
       "    <tr>\n",
       "      <th>lung opacity output</th>\n",
       "      <th>1+1</th>\n",
       "      <td>0.79$\\pm$0.07</td>\n",
       "      <td>0.60$\\pm$0.09</td>\n",
       "      <td>0.76$\\pm$0.10</td>\n",
       "    </tr>\n",
       "    <tr>\n",
       "      <th>18 outputs</th>\n",
       "      <th>18+1</th>\n",
       "      <td>0.66$\\pm$0.13</td>\n",
       "      <td>0.29$\\pm$0.26</td>\n",
       "      <td>0.90$\\pm$0.16</td>\n",
       "    </tr>\n",
       "    <tr>\n",
       "      <th>Intermediate features</th>\n",
       "      <th>1024+1</th>\n",
       "      <td>0.68$\\pm$0.11</td>\n",
       "      <td>-0.09$\\pm$0.45</td>\n",
       "      <td>1.20$\\pm$0.26</td>\n",
       "    </tr>\n",
       "    <tr>\n",
       "      <th>No data</th>\n",
       "      <th>1+1</th>\n",
       "      <td>0.00$\\pm$0.00</td>\n",
       "      <td>-0.26$\\pm$0.20</td>\n",
       "      <td>1.30$\\pm$0.00</td>\n",
       "    </tr>\n",
       "  </tbody>\n",
       "</table>\n",
       "</div>"
      ],
      "text/plain": [
       "                                      Correlation             R^2  \\\n",
       "                                                                    \n",
       "    name                  # params                                  \n",
       "    4 outputs             4+1       0.79$\\pm$0.07   0.61$\\pm$0.11   \n",
       "    lung opacity output   1+1       0.79$\\pm$0.07   0.60$\\pm$0.09   \n",
       "    18 outputs            18+1      0.66$\\pm$0.13   0.29$\\pm$0.26   \n",
       "    Intermediate features 1024+1    0.68$\\pm$0.11  -0.09$\\pm$0.45   \n",
       "    No data               1+1       0.00$\\pm$0.00  -0.26$\\pm$0.20   \n",
       "\n",
       "                                              MAE  \n",
       "                                                   \n",
       "    name                  # params                 \n",
       "    4 outputs             4+1       0.73$\\pm$0.10  \n",
       "    lung opacity output   1+1       0.76$\\pm$0.10  \n",
       "    18 outputs            18+1      0.90$\\pm$0.16  \n",
       "    Intermediate features 1024+1    1.20$\\pm$0.26  \n",
       "    No data               1+1       1.30$\\pm$0.00  "
      ]
     },
     "execution_count": 54,
     "metadata": {},
     "output_type": "execute_result"
    }
   ],
   "source": [
    "a"
   ]
  },
  {
   "cell_type": "code",
   "execution_count": 55,
   "metadata": {},
   "outputs": [
    {
     "name": "stdout",
     "output_type": "stream",
     "text": [
      "Asia, Europe\n"
     ]
    }
   ],
   "source": [
    "print(\", \".join(sorted(test_regions)))"
   ]
  },
  {
   "cell_type": "code",
   "execution_count": 56,
   "metadata": {},
   "outputs": [
    {
     "data": {
      "text/plain": [
       "'Asia, Europe'"
      ]
     },
     "execution_count": 56,
     "metadata": {},
     "output_type": "execute_result"
    }
   ],
   "source": [
    "\", \".join(sorted(results.test_region.unique()))"
   ]
  },
  {
   "cell_type": "code",
   "execution_count": 57,
   "metadata": {},
   "outputs": [
    {
     "name": "stdout",
     "output_type": "stream",
     "text": [
      "Opacity\\\\N=94\n"
     ]
    }
   ],
   "source": [
    "print(target_str + \"\\\\\\\\N=\" + str(labels_mask.sum()))"
   ]
  },
  {
   "cell_type": "code",
   "execution_count": 58,
   "metadata": {},
   "outputs": [
    {
     "name": "stdout",
     "output_type": "stream",
     "text": [
      "\\begin{tabular}{lllllll}\n",
      "\\toprule\n",
      "  &   &         &     &    Correlation &             R^2 &            MAE \\\\\n",
      "  &   &         &     \\\\\n",
      "  &   & name & # params &                &                 &                \\\\\n",
      "\\midrule\n",
      "  &   & 4 outputs & 4+1 &  0.79$\\pm$0.07 &   0.61$\\pm$0.11 &  0.73$\\pm$0.10 \\\\\n",
      "  &   & lung opacity output & 1+1 &  0.79$\\pm$0.07 &   0.60$\\pm$0.09 &  0.76$\\pm$0.10 \\\\\n",
      "  &   & 18 outputs & 18+1 &  0.66$\\pm$0.13 &   0.29$\\pm$0.26 &  0.90$\\pm$0.16 \\\\\n",
      "  &   & Intermediate features & 1024+1 &  0.68$\\pm$0.11 &  -0.09$\\pm$0.45 &  1.20$\\pm$0.26 \\\\\n",
      "  &   & No data & 1+1 &  0.00$\\pm$0.00 &  -0.26$\\pm$0.20 &  1.30$\\pm$0.00 \\\\\n",
      "\\bottomrule\n",
      "\\end{tabular}\n",
      "\n"
     ]
    }
   ],
   "source": [
    "print(a.to_latex(escape=False))"
   ]
  },
  {
   "cell_type": "code",
   "execution_count": null,
   "metadata": {},
   "outputs": [],
   "source": []
  },
  {
   "cell_type": "code",
   "execution_count": null,
   "metadata": {},
   "outputs": [],
   "source": []
  },
  {
   "cell_type": "code",
   "execution_count": null,
   "metadata": {},
   "outputs": [],
   "source": []
  },
  {
   "cell_type": "code",
   "execution_count": null,
   "metadata": {},
   "outputs": [],
   "source": []
  },
  {
   "cell_type": "code",
   "execution_count": null,
   "metadata": {},
   "outputs": [],
   "source": []
  },
  {
   "cell_type": "code",
   "execution_count": null,
   "metadata": {},
   "outputs": [],
   "source": []
  },
  {
   "cell_type": "code",
   "execution_count": null,
   "metadata": {},
   "outputs": [],
   "source": []
  },
  {
   "cell_type": "code",
   "execution_count": null,
   "metadata": {},
   "outputs": [],
   "source": []
  }
 ],
 "metadata": {
  "kernelspec": {
   "display_name": "Python 3",
   "language": "python",
   "name": "python3"
  },
  "language_info": {
   "codemirror_mode": {
    "name": "ipython",
    "version": 3
   },
   "file_extension": ".py",
   "mimetype": "text/x-python",
   "name": "python",
   "nbconvert_exporter": "python",
   "pygments_lexer": "ipython3",
   "version": "3.7.6"
  }
 },
 "nbformat": 4,
 "nbformat_minor": 4
}
